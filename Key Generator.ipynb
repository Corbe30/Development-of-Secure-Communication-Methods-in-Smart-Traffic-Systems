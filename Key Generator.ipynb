{
 "cells": [
  {
   "cell_type": "code",
   "execution_count": 49,
   "metadata": {},
   "outputs": [],
   "source": [
    "from Crypto.PublicKey import RSA\n",
    "from hashlib import sha512"
   ]
  },
  {
   "cell_type": "code",
   "execution_count": 50,
   "metadata": {},
   "outputs": [],
   "source": [
    "keyPair = RSA.generate(bits=1024)"
   ]
  },
  {
   "cell_type": "code",
   "execution_count": 51,
   "metadata": {},
   "outputs": [
    {
     "name": "stdout",
     "output_type": "stream",
     "text": [
      "Public key:  (n=0xae26cb1af5c0f092d35fbb82db8e83385eb56305a71427131d0d09663328f70570d7aa604f707763029388cc3b78ecbc4babf516cfe925d9cdad1a9a988cb72c1f59570bd3e17eae29a837c4e7d7afca16018b7d03b8e1951b596557af3ded4741318b99ce84362e529f045c0290077df9dc2d6a9d3eb8703b98da67ceeb2751, e=0x10001)\n",
      "Private key: (n=0xae26cb1af5c0f092d35fbb82db8e83385eb56305a71427131d0d09663328f70570d7aa604f707763029388cc3b78ecbc4babf516cfe925d9cdad1a9a988cb72c1f59570bd3e17eae29a837c4e7d7afca16018b7d03b8e1951b596557af3ded4741318b99ce84362e529f045c0290077df9dc2d6a9d3eb8703b98da67ceeb2751, d=0x1423d820086cfd5d6b8cc2139076df21c72128c01bfa0a894d362760be78a5b5a73ec7bd3edea1aded7bb8a9aed48da33a889acdde32473e74a8e8df595647ae05586b06dfb9d9be197e61b05d14d05d5f3ccc393bab099028fc8260d25696346909646a1cd0f5ee93d67fdf2706024f221252f509c63530532cb8ea0b1ccda9)\n"
     ]
    }
   ],
   "source": [
    "print(f\"Public key:  (n={hex(keyPair.n)}, e={hex(keyPair.e)})\")\n",
    "print(f\"Private key: (n={hex(keyPair.n)}, d={hex(keyPair.d)})\")"
   ]
  },
  {
   "cell_type": "code",
   "execution_count": 52,
   "metadata": {},
   "outputs": [
    {
     "data": {
      "text/plain": [
       "14142800586670616142600030463683335599778534358699478834352412489272227349460198425411430834198506962008889120248186540153895345754405567682306883373998650609503619883416988832923208151360674101589398540584775429147933073280475089124790457910926258958073178633270558452513816952864231860866925789257167326633"
      ]
     },
     "execution_count": 52,
     "metadata": {},
     "output_type": "execute_result"
    }
   ],
   "source": [
    "keyPair.d"
   ]
  },
  {
   "cell_type": "code",
   "execution_count": 53,
   "metadata": {},
   "outputs": [
    {
     "data": {
      "text/plain": [
       "122293367908384169694731014002066830300685871557216399566830479416744540273655999103615383382760879490597736054452908651337171411568812717720758823173090526103506367669129825063744305699932544502504254821738297033255668630791546107712250736054532534634310513735351996834367455094650844537288444768319661877073"
      ]
     },
     "execution_count": 53,
     "metadata": {},
     "output_type": "execute_result"
    }
   ],
   "source": [
    "keyPair.n"
   ]
  },
  {
   "cell_type": "code",
   "execution_count": 54,
   "metadata": {},
   "outputs": [
    {
     "data": {
      "text/plain": [
       "65537"
      ]
     },
     "execution_count": 54,
     "metadata": {},
     "output_type": "execute_result"
    }
   ],
   "source": [
    "keyPair.e"
   ]
  },
  {
   "cell_type": "code",
   "execution_count": 55,
   "metadata": {},
   "outputs": [],
   "source": [
    "msg = b'A message for signing'"
   ]
  },
  {
   "cell_type": "code",
   "execution_count": 56,
   "metadata": {},
   "outputs": [
    {
     "data": {
      "text/plain": [
       "6866940647303413929360886659707398310585944768741832085930808557104870898512982844426348355404789362574208870076646140489606711762682989682230668797895224"
      ]
     },
     "execution_count": 56,
     "metadata": {},
     "output_type": "execute_result"
    }
   ],
   "source": [
    "hashh = int.from_bytes(sha512(msg).digest(), byteorder='big')\n",
    "hashh"
   ]
  },
  {
   "cell_type": "code",
   "execution_count": 57,
   "metadata": {},
   "outputs": [
    {
     "data": {
      "text/plain": [
       "'0x5ef13a2eea5d8694a155759036dc78fe5ea851661a7d9bbb12658f32276fa8969a7feaff8673fe57b49c99b746a56750244a978d9e4c021da5e7e184dba3344a35474909f08da4d829fcb01a7c930e8ea611332b0ad49fc781e6b56a8810608be8fac7566be5eac34afa8d5c4826fdbb89c4022ed0db9e5a615d094a2b57273c'"
      ]
     },
     "execution_count": 57,
     "metadata": {},
     "output_type": "execute_result"
    }
   ],
   "source": [
    "signature = pow(hashh, keyPair.d, keyPair.n)\n",
    "hex(signature)"
   ]
  },
  {
   "cell_type": "code",
   "execution_count": 58,
   "metadata": {},
   "outputs": [
    {
     "data": {
      "text/plain": [
       "258"
      ]
     },
     "execution_count": 58,
     "metadata": {},
     "output_type": "execute_result"
    }
   ],
   "source": [
    "len(hex(signature))"
   ]
  },
  {
   "cell_type": "code",
   "execution_count": 59,
   "metadata": {},
   "outputs": [],
   "source": [
    "hashFromSignature = pow(signature, keyPair.e, keyPair.n)"
   ]
  },
  {
   "cell_type": "code",
   "execution_count": 60,
   "metadata": {},
   "outputs": [],
   "source": [
    "l1 = [1,2,3,4,5,6]"
   ]
  },
  {
   "cell_type": "code",
   "execution_count": 61,
   "metadata": {},
   "outputs": [
    {
     "data": {
      "text/plain": [
       "[1, 2, 3]"
      ]
     },
     "execution_count": 61,
     "metadata": {},
     "output_type": "execute_result"
    }
   ],
   "source": [
    "l1[:3]"
   ]
  },
  {
   "cell_type": "code",
   "execution_count": 62,
   "metadata": {},
   "outputs": [],
   "source": [
    "l2 = [str(x) for x in l1]"
   ]
  },
  {
   "cell_type": "code",
   "execution_count": 63,
   "metadata": {},
   "outputs": [
    {
     "data": {
      "text/plain": [
       "['1', '2', '3', '4', '5', '6']"
      ]
     },
     "execution_count": 63,
     "metadata": {},
     "output_type": "execute_result"
    }
   ],
   "source": [
    "l2"
   ]
  },
  {
   "cell_type": "code",
   "execution_count": 64,
   "metadata": {},
   "outputs": [],
   "source": [
    "#"
   ]
  },
  {
   "cell_type": "code",
   "execution_count": null,
   "metadata": {},
   "outputs": [],
   "source": []
  },
  {
   "cell_type": "code",
   "execution_count": null,
   "metadata": {},
   "outputs": [],
   "source": []
  },
  {
   "cell_type": "code",
   "execution_count": null,
   "metadata": {},
   "outputs": [],
   "source": []
  },
  {
   "cell_type": "code",
   "execution_count": null,
   "metadata": {},
   "outputs": [],
   "source": []
  },
  {
   "cell_type": "code",
   "execution_count": null,
   "metadata": {},
   "outputs": [],
   "source": []
  },
  {
   "cell_type": "code",
   "execution_count": null,
   "metadata": {},
   "outputs": [],
   "source": []
  }
 ],
 "metadata": {
  "kernelspec": {
   "display_name": "Python 3",
   "language": "python",
   "name": "python3"
  },
  "language_info": {
   "codemirror_mode": {
    "name": "ipython",
    "version": 3
   },
   "file_extension": ".py",
   "mimetype": "text/x-python",
   "name": "python",
   "nbconvert_exporter": "python",
   "pygments_lexer": "ipython3",
   "version": "3.11.3"
  }
 },
 "nbformat": 4,
 "nbformat_minor": 2
}
